{
 "cells": [
  {
   "cell_type": "code",
   "execution_count": 5,
   "id": "330243b7",
   "metadata": {},
   "outputs": [],
   "source": [
    "# import required libraries\n",
    "\n",
    "import pandas as pd\n",
    "import joblib\n",
    "import matplotlib.pyplot as plt\n",
    "from datetime import timedelta\n",
    "import warnings\n",
    "warnings.filterwarnings(\"ignore\")\n"
   ]
  },
  {
   "cell_type": "markdown",
   "id": "2856b468",
   "metadata": {},
   "source": [
    "#### Load Data and Model"
   ]
  },
  {
   "cell_type": "code",
   "execution_count": 3,
   "id": "3f426e43",
   "metadata": {},
   "outputs": [
    {
     "name": "stdout",
     "output_type": "stream",
     "text": [
      "Data shape: (145366, 1)\n",
      "Model loaded: <class 'xgboost.sklearn.XGBRegressor'>\n"
     ]
    }
   ],
   "source": [
    "# 📁 Load dataset\n",
    "data_path = r\"C:\\Users\\willi\\GitHub\\TS_Energy_Consumption_XGB\\data\\raw\\PJME_hourly.csv\"\n",
    "PJME_data = pd.read_csv(data_path, index_col='Datetime', parse_dates=True)\n",
    "PJME_data = PJME_data.sort_index()\n",
    "\n",
    "# 🤖 Load trained XGBoost model\n",
    "model_path = r\"C:\\Users\\willi\\GitHub\\TS_Energy_Consumption_XGB\\models\\xgb_model.joblib\"\n",
    "reg_tuned = joblib.load(model_path)\n",
    "\n",
    "# ✅ Confirm it worked\n",
    "print(\"Data shape:\", PJME_data.shape)\n",
    "print(\"Model loaded:\", type(reg_tuned))\n"
   ]
  },
  {
   "cell_type": "markdown",
   "id": "5a50f50e",
   "metadata": {},
   "source": [
    "#### Forecast the Next 14 Days (Hourly)"
   ]
  },
  {
   "cell_type": "code",
   "execution_count": 6,
   "id": "717e8521",
   "metadata": {},
   "outputs": [],
   "source": [
    "# 🔧 Feature builder thats must match training.\n",
    "\n",
    "def create_features(df):\n",
    "    df = df.copy()\n",
    "    df['hour'] = df.index.hour\n",
    "    df['dayofweek'] = df.index.dayofweek\n",
    "    df['quarter'] = df.index.quarter\n",
    "    df['month'] = df.index.month\n",
    "    df['dayofyear'] = df.index.dayofyear\n",
    "    df['year'] = df.index.year\n",
    "    return df\n",
    "\n",
    "# 📅 Create next 14 days of hourly timestamps\n",
    "future_dates = pd.date_range(\n",
    "    start=PJME_data.index.max() + pd.Timedelta(hours=1),\n",
    "    periods=24 * 14,  # 14 days × 24 hours\n",
    "    freq='H'\n",
    ")\n",
    "\n",
    "# 🔄 Build features\n",
    "future_df = pd.DataFrame(index=future_dates)\n",
    "future_df = create_features(future_df)\n",
    "\n",
    "# 📊 Predict\n",
    "FEATURES = ['hour', 'dayofweek', 'quarter', 'month', 'dayofyear', 'year']\n",
    "future_df['forecast'] = reg_tuned.predict(future_df[FEATURES])\n"
   ]
  },
  {
   "cell_type": "markdown",
   "id": "918dc4c6",
   "metadata": {},
   "source": [
    "#### Combine Forecast with Recent Actuals & Export to CSV"
   ]
  },
  {
   "cell_type": "code",
   "execution_count": 7,
   "id": "7229fe9d",
   "metadata": {},
   "outputs": [
    {
     "name": "stdout",
     "output_type": "stream",
     "text": [
      "✅ Combined CSV saved to:\n",
      "C:\\Users\\willi\\GitHub\\TS_Energy_Consumption_XGB\\reports\\actual_forecast_combined.csv\n"
     ]
    }
   ],
   "source": [
    "# 🧹 Ensure the index is sorted\n",
    "PJME_data = PJME_data.sort_index()\n",
    "\n",
    "# 🕒 Get last 7 days of actuals before forecast starts\n",
    "forecast_start = future_df.index.min()\n",
    "actual_window = PJME_data.loc[:forecast_start].last(\"7D\")\n",
    "\n",
    "# 📦 Prepare actuals\n",
    "actual_df = actual_window[['PJME_MW']].copy()\n",
    "actual_df['type'] = 'actual'\n",
    "actual_df.rename(columns={'PJME_MW': 'MW'}, inplace=True)\n",
    "\n",
    "# 📦 Prepare forecast\n",
    "forecast_export = future_df[['forecast']].copy()\n",
    "forecast_export['type'] = 'forecast'\n",
    "forecast_export.rename(columns={'forecast': 'MW'}, inplace=True)\n",
    "\n",
    "# 🔗 Combine actuals + forecast\n",
    "combined_df = pd.concat([actual_df, forecast_export])\n",
    "combined_df.index.name = 'Datetime'\n",
    "\n",
    "# 💾 Export to CSV for dashboard\n",
    "export_path = r\"C:\\Users\\willi\\GitHub\\TS_Energy_Consumption_XGB\\reports\\actual_forecast_combined.csv\"\n",
    "combined_df.to_csv(export_path)\n",
    "\n",
    "print(f\"✅ Combined CSV saved to:\\n{export_path}\")\n"
   ]
  }
 ],
 "metadata": {
  "kernelspec": {
   "display_name": "lean-ds-env",
   "language": "python",
   "name": "python3"
  },
  "language_info": {
   "codemirror_mode": {
    "name": "ipython",
    "version": 3
   },
   "file_extension": ".py",
   "mimetype": "text/x-python",
   "name": "python",
   "nbconvert_exporter": "python",
   "pygments_lexer": "ipython3",
   "version": "3.10.16"
  }
 },
 "nbformat": 4,
 "nbformat_minor": 5
}
